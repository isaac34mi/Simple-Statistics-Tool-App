{
 "cells": [
  {
   "cell_type": "markdown",
   "metadata": {},
   "source": [
    "# Simple Statistical Tool App using Shiny\n",
    "\n",
    "This is a simple simple statistical tool that has the following functions as of now:\n",
    "* upload a data set of different format.(works great with csv files)\n",
    "* calculate the measure of location such as mean, mode, median, standard divaiation and others.\n",
    "* plot chart by entering column name (some chart are bar, scatter, histogram)\n",
    "\n",
    "There are other two features that I am working on to add. These are:\n",
    "* to make it easy for the user to create its own data set, by specifying number of columns and rows it needs\n",
    "* to be able to connect any data set to google spreed sheet or excel for editing\n",
    "\n",
    "all contribution are greatly appreaciated.\n",
    "\n"
   ]
  },
  {
   "cell_type": "markdown",
   "metadata": {},
   "source": [
    "### required libraries are below"
   ]
  },
  {
   "cell_type": "code",
   "execution_count": null,
   "metadata": {
    "collapsed": true
   },
   "outputs": [],
   "source": [
    "install.packages(\"shiny\")\n",
    "install.packages(\"tidyverse\")\n"
   ]
  },
  {
   "cell_type": "markdown",
   "metadata": {},
   "source": [
    "#### The UI code ( will saved in R studio as ui.R)"
   ]
  },
  {
   "cell_type": "code",
   "execution_count": null,
   "metadata": {
    "collapsed": true
   },
   "outputs": [],
   "source": [
    "#ui.R file\n",
    "\n",
    "\n",
    "#import shiny\n",
    "library(shiny)\n",
    "\n",
    "#create the UI of the app ( the view or template)\n",
    "\n",
    "shinyUI(fluidPage(\n",
    "  titlePanel(\"Simple Statistics Tool App\"),\n",
    "  \n",
    "  #sidebarPanel create a box to group other elemets in it\n",
    "  sidebarPanel(\n",
    "    fileInput('fileId', 'Choose file to upload',accept = c('text/csv','text/comma-separated-values','text/tab-separated-values','text/plain','.csv','.tsv')),\n",
    "    checkboxInput('headerId', 'Header', TRUE),\n",
    "    radioButtons('sepId', 'Separator',c(Comma=',',Semicolon=';',Tab='\\t'),','),\n",
    "    radioButtons('quoteId', 'Quote',c(None='','Double Quote'='\"','Single Quote'=\"'\"),selected = '\"'),\n",
    "    radioButtons('showId', 'Display Data',c('Show Less' = 1,'Show more' = 2)),\n",
    "    actionButton(\"LoadId\", \"Load File\"),width = 3),\n",
    "  \n",
    "  sidebarPanel(\n",
    "    textInput(\"colNameId\",label = \"Enter column name to calculate\",value = \"\"),\n",
    "    radioButtons('measureId', 'Measure of Location',c(Mean = 1, Mode = 2, Median = 3, Varient = 4, \"Standard Devaition\" = 5, Summary = 6)),\n",
    "    verbatimTextOutput(\"measure_result\")\n",
    "  ),\n",
    "  \n",
    "  sidebarPanel(\n",
    "    textInput(\"xId\",label = \"Enter column name from data set for x\",value = \"\"),\n",
    "    textInput(\"yId\",label = \"Enter column name from data set for y\",value = \"\"),\n",
    "    radioButtons('graphId', 'Charts',c(Bar = 1, Scatter = 2, Histogram = 3, Boxplot= 4)),\n",
    "    actionButton(\"plotIt\",\"Plot\")\n",
    "  ),\n",
    "    \n",
    "  mainPanel(\n",
    "    tabsetPanel(\n",
    "      tabPanel(\"Imported Data\", tableOutput(\"my_output_data\")),\n",
    "      tabPanel(\"Graph\", plotOutput(\"charts_result\")),\n",
    "      tabPanel(\"Add Data\")\n",
    "      )\n",
    "  )\n",
    "  \n",
    "))"
   ]
  },
  {
   "cell_type": "markdown",
   "metadata": {},
   "source": [
    "#### The server code (will saved in Rstudio as server.R)"
   ]
  },
  {
   "cell_type": "code",
   "execution_count": null,
   "metadata": {
    "collapsed": true
   },
   "outputs": [],
   "source": [
    "# load libries\n",
    "library(shiny)\n",
    "library(tidyverse)\n",
    "\n",
    "# Define server logic\n",
    "shinyServer(function(input, output){\n",
    "  \n",
    "  # mode function( most frequent element)\n",
    "  Mode <- function(x) {\n",
    "    ux <- unique(x)\n",
    "    ux[which.max(tabulate(match(x, ux)))]\n",
    "  }\n",
    "  \n",
    "    data <- reactive({\n",
    "      if(input$LoadId == 0){return(\"No file has been uploaded. Please upload a file\")}\n",
    "      inFile <- input$fileId\n",
    "      if (is.null(inFile)){return(NULL)}\n",
    "      \n",
    "        isolate({ \n",
    "          input$LoadId\n",
    "          my_data <- read.csv(inFile$datapath, header = input$headerId,sep = input$sepId, quote = input$quoteId,stringsAsFactors = FALSE)\n",
    "        })\n",
    "    \n",
    "      if(input$colNameId == \"\" ){\n",
    "        outdata <- my_data\n",
    "        outdata\n",
    "      }else{\n",
    "        outdata <- my_data[input$colNameId]\n",
    "        outdata\n",
    "      }\n",
    "      \n",
    "      if(input$showId == 1){\n",
    "        head(outdata, 15)\n",
    "      }else{\n",
    "        outdata\n",
    "      }\n",
    "      \n",
    "  })\n",
    "  \n",
    "    #function for calculating he measure of location\n",
    "  measure <- reactive({\n",
    "    if(input$measureId == 1 & input$colNameId != \"\"){\n",
    "      sapply(data(), mean)\n",
    "      \n",
    "    } else if(input$measureId == 2 & input$colNameId != \"\"){\n",
    "      sapply(data(), Mode)\n",
    "      \n",
    "    }else if(input$measureId == 3 & input$colNameId != \"\"){\n",
    "      sapply(data(),median)\n",
    "      \n",
    "    }else if(input$measureId == 4 & input$colNameId != \"\"){\n",
    "      sapply(data(),var)\n",
    "      \n",
    "    }else if(input$measureId == 5 & input$colNameId != \"\"){\n",
    "      sapply(data(),sd)\n",
    "      \n",
    "    }else if(input$measureId == 6 & input$colNameId != \"\"){\n",
    "      sapply(data(),summary)\n",
    "    }\n",
    "  })\n",
    "  \n",
    "  chart <- eventReactive(input$plotIt,{\n",
    "    if(input$LoadId == 0){return(\"No file has been uploaded. Please upload a file\")}\n",
    "    inFile <- input$fileId\n",
    "    if (is.null(inFile)){return(NULL)}\n",
    "    \n",
    "    if(input$xId != \"\" | input$yId != \"\"){\n",
    "      isolate({ \n",
    "        input$LoadId\n",
    "        my_data <- read.csv(inFile$datapath, header = input$headerId,sep = input$sepId, quote = input$quoteId,stringsAsFactors = FALSE)\n",
    "        })\n",
    "    }\n",
    "    \n",
    "    #convert x and y values to double from list after file check and load from above\n",
    "    xval <- as.numeric(unlist(my_data[input$xId]))\n",
    "    yval <- as.numeric(unlist(my_data[input$yId]))\n",
    "    \n",
    "    #check which radio is clicked and plot its apporpiate graph\n",
    "    if(input$graphId == 1){\n",
    "      \n",
    "    ggplot(my_data) + geom_bar(mapping = aes(x = xval, fill = I(\"blue\")))\n",
    "    \n",
    "    }else if(input$graphId == 2){\n",
    "      ggplot(my_data) + geom_point(mapping = aes(x = xval, y = yval), color = \"blue\")\n",
    "    \n",
    "    }else if(input$graphId == 3){\n",
    "      ggplot(my_data,aes(x = xval,fill = I(\"blue\"))) + geom_histogram(binwidth = 0.5)\n",
    "    \n",
    "    }else if(input$graphId == 4){\n",
    "      ggplot(my_data,mapping = aes(x = xval,y = yval)) + \n",
    "        geom_boxplot(aes(group = cut_width(xval, 0.25)),fill = \"white\", colour = \"#3366FF\")\n",
    "    }\n",
    "    })\n",
    "  \n",
    "  output$my_output_data <- renderTable({data()},include.rownames=FALSE) \n",
    "  output$measure_result <- renderPrint({measure()})\n",
    "  output$charts_result <- renderPlot({chart()})\n",
    "  \n",
    "})"
   ]
  },
  {
   "cell_type": "markdown",
   "metadata": {},
   "source": [
    "#### Thank you!\n"
   ]
  }
 ],
 "metadata": {
  "anaconda-cloud": {},
  "kernelspec": {
   "display_name": "R",
   "language": "R",
   "name": "ir"
  },
  "language_info": {
   "codemirror_mode": "r",
   "file_extension": ".r",
   "mimetype": "text/x-r-source",
   "name": "R",
   "pygments_lexer": "r",
   "version": "3.3.2"
  }
 },
 "nbformat": 4,
 "nbformat_minor": 1
}
